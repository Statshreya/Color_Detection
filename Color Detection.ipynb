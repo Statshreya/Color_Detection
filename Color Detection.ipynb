{
 "cells": [
  {
   "cell_type": "markdown",
   "id": "73f52b18",
   "metadata": {},
   "source": [
    "## Color Detection using Python"
   ]
  },
  {
   "cell_type": "markdown",
   "id": "7a217837",
   "metadata": {},
   "source": [
    "### Importing the essential libraries "
   ]
  },
  {
   "cell_type": "code",
   "execution_count": null,
   "id": "20de484c",
   "metadata": {},
   "outputs": [],
   "source": [
    "import cv2\n",
    "import pandas as pd"
   ]
  },
  {
   "cell_type": "markdown",
   "id": "3ffc5d9f",
   "metadata": {},
   "source": [
    "## Creating two variables"
   ]
  },
  {
   "cell_type": "code",
   "execution_count": 2,
   "id": "8b623f83",
   "metadata": {},
   "outputs": [],
   "source": [
    "img_path = 'pic1.jpg'\n",
    "csv_path = 'colors.csv'"
   ]
  },
  {
   "cell_type": "code",
   "execution_count": 3,
   "id": "75adc435",
   "metadata": {},
   "outputs": [
    {
     "data": {
      "text/html": [
       "<div>\n",
       "<style scoped>\n",
       "    .dataframe tbody tr th:only-of-type {\n",
       "        vertical-align: middle;\n",
       "    }\n",
       "\n",
       "    .dataframe tbody tr th {\n",
       "        vertical-align: top;\n",
       "    }\n",
       "\n",
       "    .dataframe thead th {\n",
       "        text-align: right;\n",
       "    }\n",
       "</style>\n",
       "<table border=\"1\" class=\"dataframe\">\n",
       "  <thead>\n",
       "    <tr style=\"text-align: right;\">\n",
       "      <th></th>\n",
       "      <th>color</th>\n",
       "      <th>color_name</th>\n",
       "      <th>hex</th>\n",
       "      <th>R</th>\n",
       "      <th>G</th>\n",
       "      <th>B</th>\n",
       "    </tr>\n",
       "  </thead>\n",
       "  <tbody>\n",
       "    <tr>\n",
       "      <th>0</th>\n",
       "      <td>air_force_blue_raf</td>\n",
       "      <td>Air Force Blue (Raf)</td>\n",
       "      <td>#5d8aa8</td>\n",
       "      <td>93</td>\n",
       "      <td>138</td>\n",
       "      <td>168</td>\n",
       "    </tr>\n",
       "    <tr>\n",
       "      <th>1</th>\n",
       "      <td>air_force_blue_usaf</td>\n",
       "      <td>Air Force Blue (Usaf)</td>\n",
       "      <td>#00308f</td>\n",
       "      <td>0</td>\n",
       "      <td>48</td>\n",
       "      <td>143</td>\n",
       "    </tr>\n",
       "    <tr>\n",
       "      <th>2</th>\n",
       "      <td>air_superiority_blue</td>\n",
       "      <td>Air Superiority Blue</td>\n",
       "      <td>#72a0c1</td>\n",
       "      <td>114</td>\n",
       "      <td>160</td>\n",
       "      <td>193</td>\n",
       "    </tr>\n",
       "    <tr>\n",
       "      <th>3</th>\n",
       "      <td>alabama_crimson</td>\n",
       "      <td>Alabama Crimson</td>\n",
       "      <td>#a32638</td>\n",
       "      <td>163</td>\n",
       "      <td>38</td>\n",
       "      <td>56</td>\n",
       "    </tr>\n",
       "    <tr>\n",
       "      <th>4</th>\n",
       "      <td>alice_blue</td>\n",
       "      <td>Alice Blue</td>\n",
       "      <td>#f0f8ff</td>\n",
       "      <td>240</td>\n",
       "      <td>248</td>\n",
       "      <td>255</td>\n",
       "    </tr>\n",
       "  </tbody>\n",
       "</table>\n",
       "</div>"
      ],
      "text/plain": [
       "                  color             color_name      hex    R    G    B\n",
       "0    air_force_blue_raf   Air Force Blue (Raf)  #5d8aa8   93  138  168\n",
       "1   air_force_blue_usaf  Air Force Blue (Usaf)  #00308f    0   48  143\n",
       "2  air_superiority_blue   Air Superiority Blue  #72a0c1  114  160  193\n",
       "3       alabama_crimson        Alabama Crimson  #a32638  163   38   56\n",
       "4            alice_blue             Alice Blue  #f0f8ff  240  248  255"
      ]
     },
     "execution_count": 3,
     "metadata": {},
     "output_type": "execute_result"
    }
   ],
   "source": [
    "index = ['color','color_name','hex','R','G','B']\n",
    "df = pd.read_csv(csv_path, names=index, header=None)\n",
    "df.head()"
   ]
  },
  {
   "cell_type": "code",
   "execution_count": 4,
   "id": "304bfd93",
   "metadata": {},
   "outputs": [
    {
     "data": {
      "text/plain": [
       "865"
      ]
     },
     "execution_count": 4,
     "metadata": {},
     "output_type": "execute_result"
    }
   ],
   "source": [
    "len(df) #total number of rows in the dataframe"
   ]
  },
  {
   "cell_type": "code",
   "execution_count": 5,
   "id": "4fbedaf7",
   "metadata": {},
   "outputs": [],
   "source": [
    "clicked = False\n",
    "r = g = b = xpos = ypos = 0"
   ]
  },
  {
   "cell_type": "code",
   "execution_count": 6,
   "id": "7c52220d",
   "metadata": {},
   "outputs": [
    {
     "name": "stdout",
     "output_type": "stream",
     "text": [
      "False 0 0 0 0 0\n"
     ]
    }
   ],
   "source": [
    "def draw_function(event,x,y,flags,params):\n",
    "    if event == cv2.EVENT_LBUTTONDBLCLK:\n",
    "        print(x,y)\n",
    "        global clicked,r, g, b, xpos, ypos\n",
    "        xpos = x\n",
    "        ypos = y\n",
    "        b, g, r = img[y,x]\n",
    "        print(b,g,r)\n",
    "        b = int(b)\n",
    "        g = int(g)\n",
    "        r = int(r)\n",
    "        \n",
    "        \n",
    "print(clicked, r, g, b, xpos, ypos)    \n"
   ]
  },
  {
   "cell_type": "code",
   "execution_count": 7,
   "id": "4447b6eb",
   "metadata": {},
   "outputs": [
    {
     "data": {
      "text/plain": [
       "array([[[51, 46, 61],\n",
       "        [51, 46, 61],\n",
       "        [51, 46, 61],\n",
       "        ...,\n",
       "        [47, 43, 55],\n",
       "        [47, 43, 55],\n",
       "        [47, 43, 55]],\n",
       "\n",
       "       [[51, 46, 61],\n",
       "        [51, 46, 61],\n",
       "        [51, 46, 61],\n",
       "        ...,\n",
       "        [47, 43, 55],\n",
       "        [47, 43, 55],\n",
       "        [47, 43, 55]],\n",
       "\n",
       "       [[51, 46, 61],\n",
       "        [51, 46, 61],\n",
       "        [51, 46, 61],\n",
       "        ...,\n",
       "        [47, 43, 55],\n",
       "        [47, 43, 55],\n",
       "        [47, 43, 55]],\n",
       "\n",
       "       ...,\n",
       "\n",
       "       [[49, 51, 52],\n",
       "        [49, 51, 52],\n",
       "        [50, 52, 53],\n",
       "        ...,\n",
       "        [48, 44, 56],\n",
       "        [48, 44, 56],\n",
       "        [48, 44, 56]],\n",
       "\n",
       "       [[49, 51, 51],\n",
       "        [49, 51, 51],\n",
       "        [50, 52, 52],\n",
       "        ...,\n",
       "        [48, 44, 56],\n",
       "        [48, 44, 56],\n",
       "        [48, 44, 56]],\n",
       "\n",
       "       [[49, 51, 51],\n",
       "        [49, 51, 51],\n",
       "        [50, 52, 52],\n",
       "        ...,\n",
       "        [48, 44, 56],\n",
       "        [48, 44, 56],\n",
       "        [48, 44, 56]]], dtype=uint8)"
      ]
     },
     "execution_count": 7,
     "metadata": {},
     "output_type": "execute_result"
    }
   ],
   "source": [
    "img = cv2.imread(img_path) #reading the img in array format\n",
    "img"
   ]
  },
  {
   "cell_type": "code",
   "execution_count": 8,
   "id": "24d8252a",
   "metadata": {},
   "outputs": [],
   "source": [
    "#Resizing the img\n",
    "img = cv2.resize(img,(800,600))\n",
    "\n",
    "#Creating an window\n",
    "cv2.namedWindow('image')\n",
    "cv2.setMouseCallback('image', draw_function)\n",
    "cv2.imshow('image',img)\n",
    "cv2.waitKey(0)\n",
    "cv2.destroyAllWindows()"
   ]
  },
  {
   "cell_type": "code",
   "execution_count": 9,
   "id": "f294df18",
   "metadata": {},
   "outputs": [
    {
     "name": "stdout",
     "output_type": "stream",
     "text": [
      "Air Force Blue (Raf)\n"
     ]
    }
   ],
   "source": [
    "def get_color_name(R, G, B):\n",
    "    minimum = 1000\n",
    "    for i in range(len(df)):\n",
    "        d = abs(R - int(df.loc[i, 'R'])) + abs(B - int(df.loc[i, 'B'])) + abs(G - int(df.loc[i, 'G']))\n",
    "        if d <= minimum:\n",
    "            minimum = d\n",
    "            cname = df.loc[i, 'color_name']\n",
    "            return cname\n",
    "\n",
    "print(get_color_name(0,0,0))"
   ]
  },
  {
   "cell_type": "code",
   "execution_count": 10,
   "id": "e3a0b252",
   "metadata": {},
   "outputs": [
    {
     "ename": "NameError",
     "evalue": "name 'TRUE' is not defined",
     "output_type": "error",
     "traceback": [
      "\u001b[1;31m---------------------------------------------------------------------------\u001b[0m",
      "\u001b[1;31mNameError\u001b[0m                                 Traceback (most recent call last)",
      "\u001b[1;32m~\\AppData\\Local\\Temp\\ipykernel_7972\\2821815619.py\u001b[0m in \u001b[0;36m<module>\u001b[1;34m\u001b[0m\n\u001b[1;32m----> 1\u001b[1;33m \u001b[1;32mwhile\u001b[0m \u001b[0mTRUE\u001b[0m\u001b[1;33m:\u001b[0m\u001b[1;33m\u001b[0m\u001b[1;33m\u001b[0m\u001b[0m\n\u001b[0m\u001b[0;32m      2\u001b[0m     \u001b[0mcv2\u001b[0m\u001b[1;33m.\u001b[0m\u001b[0mimshow\u001b[0m\u001b[1;33m(\u001b[0m\u001b[1;34m'image'\u001b[0m\u001b[1;33m,\u001b[0m \u001b[0mimg\u001b[0m\u001b[1;33m)\u001b[0m\u001b[1;33m\u001b[0m\u001b[1;33m\u001b[0m\u001b[0m\n\u001b[0;32m      3\u001b[0m     \u001b[1;32mif\u001b[0m \u001b[0mclicked\u001b[0m\u001b[1;33m:\u001b[0m\u001b[1;33m\u001b[0m\u001b[1;33m\u001b[0m\u001b[0m\n\u001b[0;32m      4\u001b[0m         \u001b[0mcv2\u001b[0m\u001b[1;33m.\u001b[0m\u001b[0mrectangle\u001b[0m\u001b[1;33m(\u001b[0m\u001b[0mimg\u001b[0m\u001b[1;33m,\u001b[0m \u001b[1;33m(\u001b[0m\u001b[1;36m20\u001b[0m\u001b[1;33m,\u001b[0m\u001b[1;36m20\u001b[0m\u001b[1;33m)\u001b[0m\u001b[1;33m,\u001b[0m \u001b[1;33m(\u001b[0m\u001b[1;36m600\u001b[0m\u001b[1;33m,\u001b[0m\u001b[1;36m600\u001b[0m\u001b[1;33m)\u001b[0m\u001b[1;33m,\u001b[0m \u001b[1;33m(\u001b[0m\u001b[0mb\u001b[0m\u001b[1;33m,\u001b[0m\u001b[0mg\u001b[0m\u001b[1;33m,\u001b[0m\u001b[0mr\u001b[0m\u001b[1;33m)\u001b[0m\u001b[1;33m,\u001b[0m \u001b[1;33m-\u001b[0m\u001b[1;36m1\u001b[0m\u001b[1;33m)\u001b[0m\u001b[1;33m\u001b[0m\u001b[1;33m\u001b[0m\u001b[0m\n\u001b[0;32m      5\u001b[0m         \u001b[0mtext\u001b[0m \u001b[1;33m=\u001b[0m \u001b[0mget_color_name\u001b[0m\u001b[1;33m(\u001b[0m\u001b[0mr\u001b[0m\u001b[1;33m,\u001b[0m\u001b[0mg\u001b[0m\u001b[1;33m,\u001b[0m\u001b[0mb\u001b[0m\u001b[1;33m)\u001b[0m \u001b[1;33m+\u001b[0m \u001b[1;34m'R= '\u001b[0m\u001b[1;33m+\u001b[0m \u001b[0mstr\u001b[0m\u001b[1;33m(\u001b[0m\u001b[0mr\u001b[0m\u001b[1;33m)\u001b[0m \u001b[1;33m+\u001b[0m \u001b[1;34m'G= '\u001b[0m\u001b[1;33m+\u001b[0m \u001b[0mstr\u001b[0m\u001b[1;33m(\u001b[0m\u001b[0mg\u001b[0m\u001b[1;33m)\u001b[0m \u001b[1;33m+\u001b[0m \u001b[1;34m'B= '\u001b[0m\u001b[1;33m+\u001b[0m \u001b[0mstr\u001b[0m\u001b[1;33m(\u001b[0m\u001b[0mb\u001b[0m\u001b[1;33m)\u001b[0m\u001b[1;33m\u001b[0m\u001b[1;33m\u001b[0m\u001b[0m\n",
      "\u001b[1;31mNameError\u001b[0m: name 'TRUE' is not defined"
     ]
    }
   ],
   "source": [
    "while TRUE:\n",
    "    cv2.imshow('image', img)\n",
    "    if clicked:\n",
    "        cv2.rectangle(img, (20,20), (600,600), (b,g,r), -1)\n",
    "        text = get_color_name(r,g,b) + 'R= '+ str(r) + 'G= '+ str(g) + 'B= '+ str(b)\n",
    "        cv2.putText(img, text, (50,50), 2, 0.8, (255,255,255), 2, cv2.LINE_AA)\n",
    "        if r + g+ b >= 600:\n",
    "             cv2.putText(img, text, (50,50), 2, 0.8, (255,255,255), 2, cv2.LINE_AA)\n",
    "               \n",
    "if cv2.waitKey(20) & 0xFF == 27:\n",
    "    break\n",
    "    cv2.destroyAllWindows()\n",
    "            "
   ]
  },
  {
   "cell_type": "code",
   "execution_count": null,
   "id": "088a0b73",
   "metadata": {},
   "outputs": [],
   "source": []
  },
  {
   "cell_type": "code",
   "execution_count": null,
   "id": "f7b79a12",
   "metadata": {},
   "outputs": [],
   "source": []
  }
 ],
 "metadata": {
  "kernelspec": {
   "display_name": "Python 3 (ipykernel)",
   "language": "python",
   "name": "python3"
  },
  "language_info": {
   "codemirror_mode": {
    "name": "ipython",
    "version": 3
   },
   "file_extension": ".py",
   "mimetype": "text/x-python",
   "name": "python",
   "nbconvert_exporter": "python",
   "pygments_lexer": "ipython3",
   "version": "3.9.13"
  }
 },
 "nbformat": 4,
 "nbformat_minor": 5
}
